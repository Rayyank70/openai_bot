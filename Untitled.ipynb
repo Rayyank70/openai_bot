{
 "cells": [
  {
   "cell_type": "code",
   "execution_count": 9,
   "id": "1d5424e1",
   "metadata": {},
   "outputs": [
    {
     "name": "stdout",
     "output_type": "stream",
     "text": [
      "Processing ./.cache/pip/wheels/ac/6d/af/dfaf46d1944e1b4d84f51afef798145a0f0e1b9b9a93842edc/smac-1.4.0-py3-none-any.whl\n",
      "Requirement already satisfied: regex in /opt/conda/lib/python3.8/site-packages (from smac) (2022.9.13)\n",
      "Requirement already satisfied: scipy>=1.7.0 in /opt/conda/lib/python3.8/site-packages (from smac) (1.8.1)\n",
      "Requirement already satisfied: scikit-learn>=0.22.0 in /opt/conda/lib/python3.8/site-packages (from smac) (1.0.2)\n",
      "Collecting emcee>=3.0.0\n",
      "  Using cached emcee-3.1.3-py2.py3-none-any.whl (46 kB)\n",
      "Requirement already satisfied: psutil in /opt/conda/lib/python3.8/site-packages (from smac) (5.9.2)\n",
      "Requirement already satisfied: numpy>=1.7.1 in /opt/conda/lib/python3.8/site-packages (from smac) (1.22.4)\n",
      "Requirement already satisfied: joblib in /opt/conda/lib/python3.8/site-packages (from smac) (1.2.0)\n",
      "Collecting distributed\n",
      "  Downloading distributed-2022.10.0-py3-none-any.whl (908 kB)\n",
      "\u001b[K     |████████████████████████████████| 908 kB 20.6 MB/s eta 0:00:01\n",
      "\u001b[?25hCollecting dask\n",
      "  Downloading dask-2022.10.0-py3-none-any.whl (1.1 MB)\n",
      "\u001b[K     |████████████████████████████████| 1.1 MB 87.9 MB/s eta 0:00:01\n",
      "\u001b[?25hCollecting pyrfr>=0.8.3\n",
      "  Using cached pyrfr-0.8.3-cp38-cp38-manylinux_2_17_x86_64.manylinux2014_x86_64.whl (4.4 MB)\n",
      "Requirement already satisfied: ConfigSpace>=0.5.0 in /opt/conda/lib/python3.8/site-packages (from smac) (0.6.0)\n",
      "Processing ./.cache/pip/wheels/a7/0b/c3/169e35bcd72f20d0d5e24c37dd2dff8282cc16c06df9762ff5/pynisher-0.6.4-py3-none-any.whl\n",
      "Requirement already satisfied: threadpoolctl>=2.0.0 in /opt/conda/lib/python3.8/site-packages (from scikit-learn>=0.22.0->smac) (3.1.0)\n",
      "Requirement already satisfied: jinja2 in /opt/conda/lib/python3.8/site-packages (from distributed->smac) (3.1.2)\n",
      "Collecting locket>=1.0.0\n",
      "  Using cached locket-1.0.0-py2.py3-none-any.whl (4.4 kB)\n",
      "Requirement already satisfied: packaging>=20.0 in /opt/conda/lib/python3.8/site-packages (from distributed->smac) (21.3)\n",
      "Collecting sortedcontainers!=2.0.0,!=2.0.1\n",
      "  Using cached sortedcontainers-2.4.0-py2.py3-none-any.whl (29 kB)\n",
      "Collecting tornado<6.2,>=6.0.3\n",
      "  Using cached tornado-6.1-cp38-cp38-manylinux2010_x86_64.whl (427 kB)\n",
      "Collecting msgpack>=0.6.0\n",
      "  Using cached msgpack-1.0.4-cp38-cp38-manylinux_2_17_x86_64.manylinux2014_x86_64.whl (322 kB)\n",
      "Requirement already satisfied: click>=6.6 in /opt/conda/lib/python3.8/site-packages (from distributed->smac) (8.0.4)\n",
      "Requirement already satisfied: pyyaml in /opt/conda/lib/python3.8/site-packages (from distributed->smac) (6.0)\n",
      "Collecting tblib>=1.6.0\n",
      "  Using cached tblib-1.7.0-py2.py3-none-any.whl (12 kB)\n",
      "Collecting zict>=0.1.3\n",
      "  Using cached zict-2.2.0-py2.py3-none-any.whl (23 kB)\n",
      "Collecting toolz>=0.8.2\n",
      "  Using cached toolz-0.12.0-py3-none-any.whl (55 kB)\n",
      "Collecting cloudpickle>=1.5.0\n",
      "  Using cached cloudpickle-2.2.0-py3-none-any.whl (25 kB)\n",
      "Requirement already satisfied: urllib3 in /opt/conda/lib/python3.8/site-packages (from distributed->smac) (1.26.7)\n",
      "Collecting fsspec>=0.6.0\n",
      "  Downloading fsspec-2022.10.0-py3-none-any.whl (138 kB)\n",
      "\u001b[K     |████████████████████████████████| 138 kB 99.1 MB/s eta 0:00:01\n",
      "\u001b[?25hCollecting partd>=0.3.10\n",
      "  Using cached partd-1.3.0-py3-none-any.whl (18 kB)\n",
      "Requirement already satisfied: cython in /opt/conda/lib/python3.8/site-packages (from ConfigSpace>=0.5.0->smac) (0.29.32)\n",
      "Requirement already satisfied: pyparsing in /opt/conda/lib/python3.8/site-packages (from ConfigSpace>=0.5.0->smac) (3.0.9)\n",
      "Requirement already satisfied: typing-extensions in /opt/conda/lib/python3.8/site-packages (from ConfigSpace>=0.5.0->smac) (4.3.0)\n",
      "Requirement already satisfied: setuptools in /opt/conda/lib/python3.8/site-packages (from pynisher<1.0.0->smac) (65.3.0)\n",
      "Requirement already satisfied: MarkupSafe>=2.0 in /opt/conda/lib/python3.8/site-packages (from jinja2->distributed->smac) (2.1.1)\n",
      "Collecting heapdict\n",
      "  Using cached HeapDict-1.0.1-py3-none-any.whl (3.9 kB)\n",
      "Installing collected packages: emcee, locket, sortedcontainers, tornado, msgpack, toolz, cloudpickle, fsspec, partd, dask, tblib, heapdict, zict, distributed, pyrfr, pynisher, smac\n",
      "  Attempting uninstall: tornado\n",
      "    Found existing installation: tornado 6.2\n",
      "    Uninstalling tornado-6.2:\n",
      "      Successfully uninstalled tornado-6.2\n",
      "\u001b[31mERROR: After October 2020 you may experience errors when installing or updating packages. This is because pip will change the way that it resolves dependency conflicts.\n",
      "\n",
      "We recommend you use --use-feature=2020-resolver to test your packages with the new resolver before it becomes the default.\n",
      "\n",
      "jupyter-client 7.3.5 requires tornado>=6.2, but you'll have tornado 6.1 which is incompatible.\u001b[0m\n",
      "Successfully installed cloudpickle-2.2.0 dask-2022.10.0 distributed-2022.10.0 emcee-3.1.3 fsspec-2022.10.0 heapdict-1.0.1 locket-1.0.0 msgpack-1.0.4 partd-1.3.0 pynisher-0.6.4 pyrfr-0.8.3 smac-1.4.0 sortedcontainers-2.4.0 tblib-1.7.0 toolz-0.12.0 tornado-6.1 zict-2.2.0\n"
     ]
    }
   ],
   "source": [
    "! pip3 install smac"
   ]
  },
  {
   "cell_type": "code",
   "execution_count": 11,
   "id": "b9e283d5",
   "metadata": {},
   "outputs": [],
   "source": [
    "import numpy as np\n",
    "import pandas as pd\n",
    "\n",
    "from sklearn import datasets\n",
    "from sklearn.model_selection import train_test_split\n",
    "from sklearn.ensemble import RandomForestClassifier\n",
    "from ConfigSpace import ConfigurationSpace\n",
    "from ConfigSpace.hyperparameters import UniformIntegerHyperparameter\n",
    "from smac.facade.smac_bb_facade import SMAC4BB\n",
    "from smac.scenario.scenario import Scenario\n",
    "\n",
    "\n",
    "iris = datasets.load_iris()\n",
    "X = iris.data\n",
    "y = iris.target\n",
    "\n",
    "X_train, X_val, y_train, y_val = train_test_split(X, y, test_size=0.3) \n",
    "\n",
    "\n",
    "def train_random_forest(config):\n",
    "    \"\"\"\n",
    "    Train a random forest model on a single given hyperparameter configuration,\n",
    "    defined by config and return the accuracy on the validation data.\n",
    "\n",
    "    Input:\n",
    "        config (Configuration): Configuration object derived from ConfigurationSpace.\n",
    "\n",
    "    Return:\n",
    "        cost (float): Performance measure on the validation data.\n",
    "    \"\"\"\n",
    "    model = RandomForestClassifier(max_depth=config[\"depth\"])\n",
    "    model.fit(X_train, y_train)\n",
    "\n",
    "    # define the evaluation metric as return\n",
    "    return 1 - model.score(X_val, y_val)\n",
    "\n",
    "\n",
    "    # Define your hyperparameters\n",
    "configspace = ConfigurationSpace()\n",
    "configspace.add_hyperparameter(UniformIntegerHyperparameter(\"depth\", 2, 100))\n",
    "\n",
    "# Provide meta data for the optimization\n",
    "scenario = Scenario({\n",
    "    \"run_obj\": \"quality\",  # Optimize quality (alternatively runtime)\n",
    "    \"runcount-limit\": 10,  # Max number of function evaluations (the more the better)\n",
    "    \"cs\": configspace,\n",
    "})\n",
    "\n",
    "\n",
    "smac = SMAC4BB(scenario=scenario, tae_runner=train_random_forest)\n",
    "best_found_config = smac.optimize()"
   ]
  },
  {
   "cell_type": "code",
   "execution_count": 12,
   "id": "b6ad085f",
   "metadata": {},
   "outputs": [
    {
     "name": "stdout",
     "output_type": "stream",
     "text": [
      "Configuration(values={\n",
      "  'depth': 26,\n",
      "})\n",
      "\n"
     ]
    }
   ],
   "source": [
    "print(best_found_config)"
   ]
  },
  {
   "cell_type": "code",
   "execution_count": null,
   "id": "1aac6807",
   "metadata": {},
   "outputs": [],
   "source": []
  }
 ],
 "metadata": {
  "kernelspec": {
   "display_name": "Python 3 (ipykernel)",
   "language": "python",
   "name": "python3"
  },
  "language_info": {
   "codemirror_mode": {
    "name": "ipython",
    "version": 3
   },
   "file_extension": ".py",
   "mimetype": "text/x-python",
   "name": "python",
   "nbconvert_exporter": "python",
   "pygments_lexer": "ipython3",
   "version": "3.8.13"
  }
 },
 "nbformat": 4,
 "nbformat_minor": 5
}
